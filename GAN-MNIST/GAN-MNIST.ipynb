{
 "cells": [
  {
   "cell_type": "markdown",
   "metadata": {},
   "source": [
    "# 在MNIST数据集上用经典GAN完成图像生成\n",
    "\n",
    "经典GAN结构如下：\n",
    "![image.png](imgs/1.png)\n",
    "\n",
    "参考自https://zhuanlan.zhihu.com/p/72279816\n",
    "\n",
    "对于MNIST数据集，其包含60,000张用于训练的图像和10,000张用于测试的图像，图像大小固定为28x28像素。\n",
    "\n",
    "该数据集的官方地址为：http://yann.lecun.com/exdb/mnist/\n",
    "\n",
    "项目参考：https://aistudio.baidu.com/aistudio/projectdetail/2055395?channelType=0&channel=0"
   ]
  },
  {
   "cell_type": "code",
   "execution_count": 1,
   "metadata": {},
   "outputs": [
    {
     "data": {
      "text/plain": "device(type='cpu')"
     },
     "execution_count": 1,
     "metadata": {},
     "output_type": "execute_result"
    }
   ],
   "source": [
    "import torch\n",
    "from torch import nn\n",
    "import torchvision\n",
    "import torchvision.transforms as transforms\n",
    "import numpy as np\n",
    "import matplotlib.pyplot as plt\n",
    "\n",
    "import sys\n",
    "device = torch.device('cuda' if torch.cuda.is_available() else 'cpu')\n",
    "device"
   ]
  },
  {
   "cell_type": "markdown",
   "metadata": {},
   "source": [
    "## 数据准备\n",
    "通过 SSH 客户端或 JupyterLab 进入实例终端，在 /hy-public 文件夹内可以找到公共数据集。使用数据集时先将数据集复制到 hy-tmp 或 /hy-nas(仅包含共享存储机型)内，再进行解压。\n",
    "```\n",
    "mkdir -p ~/Datasets/MNIST/MNIST/raw\n",
    "cp /hy-public/MNIST/* ~/Datasets/MNIST/MNIST/raw\n",
    "```\n"
   ]
  },
  {
   "cell_type": "code",
   "execution_count": 2,
   "metadata": {
    "code_folding": []
   },
   "outputs": [
    {
     "name": "stdout",
     "output_type": "stream",
     "text": [
      "60000 10000\n"
     ]
    }
   ],
   "source": [
    "transform = torchvision.transforms.Compose([\n",
    "    torchvision.transforms.ToTensor()\n",
    "])\n",
    "\n",
    "mnist_train = torchvision.datasets.MNIST(root='~/Datasets/MNIST', train=True, download=True, transform=transform)\n",
    "mnist_test = torchvision.datasets.MNIST(root='~/Datasets/MNIST', train=False, download=True, transform=transform)\n",
    "\n",
    "print(len(mnist_train), len(mnist_test))"
   ]
  },
  {
   "cell_type": "markdown",
   "metadata": {},
   "source": [
    "## 数据探查"
   ]
  },
  {
   "cell_type": "code",
   "execution_count": 3,
   "metadata": {},
   "outputs": [
    {
     "data": {
      "text/plain": "<Figure size 864x864 with 10 Axes>",
      "image/png": "[encoded data removed]"
     },
     "metadata": {
      "needs_background": "light"
     },
     "output_type": "display_data"
    }
   ],
   "source": [
    "def show_fashion_mnist(images):\n",
    "    '''\n",
    "    显示图片\n",
    "    :param images: 图片数据，list(torch.Size([1, 28, 28]))\n",
    "    '''\n",
    "    _, figs = plt.subplots(1, len(images), figsize=(12, 12))\n",
    "    for f, img in zip(figs, images):\n",
    "        f.imshow(img.view((28, 28)).numpy())\n",
    "        f.axes.get_xaxis().set_visible(False)\n",
    "        f.axes.get_yaxis().set_visible(False)\n",
    "    plt.show()\n",
    "    \n",
    "# 取前10张图像可视化\n",
    "X = []\n",
    "for i in range(10):\n",
    "    X.append(mnist_train[i][0])\n",
    "show_fashion_mnist(X)\n"
   ]
  },
  {
   "cell_type": "markdown",
   "metadata": {},
   "source": [
    "## GAN网络搭建\n",
    "整体网络结构包括一个生成器和一个判别器，简单来说，就是让两个网络相互竞争，生成网络来生成假的数据，对抗网络通过判别器去判别真伪。\n",
    "\n",
    "### 判别器网络结构定义\n",
    "判别器的作用主要是用来完成真假图片的判别，当输入一张真实的图片时，希望判别器输出的结果是1，当输入一张生成器伪造的图片时，希望判别器输出的结果是0。"
   ]
  },
  {
   "cell_type": "code",
   "execution_count": 4,
   "metadata": {},
   "outputs": [],
   "source": [
    "class Discriminator(nn.Module):\n",
    "    def __init__(self):\n",
    "        super(Discriminator, self).__init__()\n",
    "        self.D = nn.Sequential(\n",
    "            nn.Linear(28*28, 256),\n",
    "            nn.LeakyReLU(0.2),\n",
    "            nn.Linear(256, 256),\n",
    "            nn.LeakyReLU(0.2),\n",
    "            nn.Linear(256, 1),\n",
    "            nn.Sigmoid()\n",
    "        )\n",
    "\n",
    "    def forward(self, x):\n",
    "        x = self.D(x)\n",
    "        return x"
   ]
  },
  {
   "cell_type": "markdown",
   "metadata": {},
   "source": [
    "### 生成器网络结构定义\n",
    "生成器的目的主要是生成以假乱真的图片，接着我们要看看如何生成一张假的图片。首先给出一个简单的高维的正态分布的噪声向量，接着通过一些全连接、卷积、池化、激活函数等操作，最后得到一个与输入图片大小一样的噪声图片，也就是假图像。"
   ]
  },
  {
   "cell_type": "code",
   "execution_count": 5,
   "metadata": {},
   "outputs": [],
   "source": [
    "class Generator(nn.Module):\n",
    "    def __init__(self):\n",
    "        super(Generator, self).__init__()\n",
    "        self.G = nn.Sequential(\n",
    "            nn.Linear(100, 256),\n",
    "            nn.ReLU(True),\n",
    "            nn.Linear(256, 256),\n",
    "            nn.ReLU(True),\n",
    "            nn.Linear(256, 28*28),\n",
    "            nn.Tanh()\n",
    "        )\n",
    "\n",
    "    def forward(self, x):\n",
    "        x = self.G(x)\n",
    "        return x"
   ]
  },
  {
   "cell_type": "markdown",
   "metadata": {},
   "source": [
    "## 定义模型训练函数\n"
   ]
  },
  {
   "cell_type": "code",
   "execution_count": 6,
   "metadata": {},
   "outputs": [],
   "source": [
    "def train_gan(data_iter, netD, netG, optimizerD, optimizerG, loss, device, num_epochs, batch_size):\n",
    "    '''\n",
    "    GAN模型训练函数\n",
    "    \n",
    "    :param data_iter: 数据迭代器，torch.utils.data.DataLoader\n",
    "    :param netD: 判别网络\n",
    "    :param netG: 生成网络\n",
    "    :param optimizerD: 判别网络优化器\n",
    "    :param optimizerG: 生成网络优化器\n",
    "    :param loss: 损失函数\n",
    "    :param device: 执行设备：cpu & gpu，\n",
    "    :param num_epochs: 迭代次数\n",
    "    :param batch_size: 批量大小\n",
    "    '''\n",
    "    result_batch_epoch = [[],[],[]]  # 存储每个batch的结果\n",
    "    result_each_epoch = [[],[],[]]  # 存储每个epoch的结果\n",
    "    K = 1\n",
    "\n",
    "    for epoch in range(num_epochs):\n",
    "        for batch_idx, (data, label) in enumerate(data_iter):\n",
    "            netD.to(device)\n",
    "            netG.to(device)\n",
    "            real_images = data.to(device).reshape((batch_size, 1, 28*28))\n",
    "\n",
    "            #训练判别器 \n",
    "            ############################\n",
    "            # (1) Update D network: maximize log(D(x)) + log(1 - D(G(z)))\n",
    "            ###########################\n",
    "            optimizerD.zero_grad()\n",
    "            # 判别真实数据，并计算损失，目的是让判别器尽量识别出真实数据\n",
    "            d_real_predict = netD(real_images)\n",
    "            d_real_loss = loss(d_real_predict, torch.ones_like(d_real_predict))\n",
    "\n",
    "            # 判别生成器生成的数据，并计算损失，目的是让判别器尽量识别出生成器伪造的数据\n",
    "            noise = torch.randn([BATCH_SIZE, 100]).to(device) # 使用正态分布噪音作为假的图片\n",
    "            fake_images = netG(noise)\n",
    "            d_fake_predict = netD(fake_images)\n",
    "            d_fake_loss = loss(d_fake_predict, torch.zeros_like(d_fake_predict))\n",
    "\n",
    "            # 训练判别器\n",
    "            d_loss = d_real_loss + d_fake_loss\n",
    "            d_loss.backward()\n",
    "            optimizerD.step()\n",
    "\n",
    "            result_batch_epoch[0].append(d_loss.cpu().detach().numpy())\n",
    "\n",
    "            ###训练生成器\n",
    "            ############################\n",
    "            # (2) Update G network: maximize log(D(G(z)))\n",
    "            ###########################\n",
    "            # 生成器生成假的图片送入判别器，并计算损失，目的是让判别器分不开真假数据。\n",
    "            for _ in range(K):\n",
    "                optimizerG.zero_grad()\n",
    "                noise = torch.randn([BATCH_SIZE, 100]).to(device)\n",
    "                fake_images = netG(noise)\n",
    "                g_fake_predict = netD(fake_images)\n",
    "                g_loss = loss(g_fake_predict, torch.ones_like(g_fake_predict))\n",
    "\n",
    "                # 训练生成器\n",
    "                g_loss.backward()\n",
    "                optimizerG.step()\n",
    "\n",
    "            result_batch_epoch[1].append(g_loss.cpu().detach().numpy())\n",
    "\n",
    "            fake_score = torch.sum(g_fake_predict).cpu().detach().numpy() / BATCH_SIZE\n",
    "            result_batch_epoch[2].append(fake_score)\n",
    "            \n",
    "            if d_loss.cpu().detach().numpy() < g_loss.cpu().detach().numpy():\n",
    "                K = int((g_loss.cpu().detach().numpy() - d_loss.cpu().detach().numpy()) * 4) + 1\n",
    "            else:\n",
    "                K = 1\n",
    "\n",
    "        result_each_epoch[0].append(d_loss.cpu().detach().numpy())\n",
    "        result_each_epoch[1].append(g_loss.cpu().detach().numpy())\n",
    "        result_each_epoch[2].append(fake_score)\n",
    "        print(f'Epoch [{epoch+1}/{EPOCHS}] Loss D: {d_loss.cpu().detach().numpy()}, Loss G: {g_loss.cpu().detach().numpy()}, Fake Score: {fake_score}, K: {K}')\n",
    "    return result_batch_epoch, result_each_epoch"
   ]
  },
  {
   "cell_type": "code",
   "execution_count": 7,
   "metadata": {},
   "outputs": [
    {
     "name": "stdout",
     "output_type": "stream",
     "text": [
      "Epoch [1/50] Loss D: 1.1304550170898438, Loss G: 2.32936692237854, Fake Score: 0.10076947510242462, K: 5\n",
      "Epoch [2/50] Loss D: 1.0691075325012207, Loss G: 1.2726585865020752, Fake Score: 0.28182080388069153, K: 1\n",
      "Epoch [3/50] Loss D: 1.1488938331604004, Loss G: 1.1552209854125977, Fake Score: 0.3163626194000244, K: 1\n",
      "Epoch [4/50] Loss D: 1.1851279735565186, Loss G: 1.0759553909301758, Fake Score: 0.34967777132987976, K: 1\n",
      "Epoch [5/50] Loss D: 1.2816603183746338, Loss G: 1.4499871730804443, Fake Score: 0.2521933615207672, K: 1\n",
      "Epoch [6/50] Loss D: 1.8366210460662842, Loss G: 1.1210181713104248, Fake Score: 0.3366025686264038, K: 1\n",
      "Epoch [7/50] Loss D: 1.4519312381744385, Loss G: 1.3331561088562012, Fake Score: 0.2755647897720337, K: 1\n",
      "Epoch [8/50] Loss D: 1.1693744659423828, Loss G: 1.4371347427368164, Fake Score: 0.25563839077949524, K: 2\n",
      "Epoch [9/50] Loss D: 1.1553623676300049, Loss G: 1.3493874073028564, Fake Score: 0.28083354234695435, K: 1\n",
      "Epoch [10/50] Loss D: 1.2710120677947998, Loss G: 0.9927969574928284, Fake Score: 0.3879186809062958, K: 1\n",
      "Epoch [11/50] Loss D: 1.19472336769104, Loss G: 1.3321813344955444, Fake Score: 0.28392112255096436, K: 1\n",
      "Epoch [12/50] Loss D: 1.232196569442749, Loss G: 1.4226570129394531, Fake Score: 0.260105699300766, K: 1\n",
      "Epoch [13/50] Loss D: 1.1110122203826904, Loss G: 1.2632838487625122, Fake Score: 0.308025985956192, K: 1\n",
      "Epoch [14/50] Loss D: 1.1236516237258911, Loss G: 1.0055667161941528, Fake Score: 0.3945509195327759, K: 1\n",
      "Epoch [15/50] Loss D: 1.3303210735321045, Loss G: 1.4118168354034424, Fake Score: 0.27268168330192566, K: 1\n",
      "Epoch [16/50] Loss D: 1.107353687286377, Loss G: 1.238338589668274, Fake Score: 0.3162405490875244, K: 1\n",
      "Epoch [17/50] Loss D: 1.2181825637817383, Loss G: 1.335475206375122, Fake Score: 0.30365893244743347, K: 1\n",
      "Epoch [18/50] Loss D: 0.9796788692474365, Loss G: 1.385114312171936, Fake Score: 0.27789342403411865, K: 2\n",
      "Epoch [19/50] Loss D: 1.0528751611709595, Loss G: 1.0862773656845093, Fake Score: 0.37586575746536255, K: 1\n",
      "Epoch [20/50] Loss D: 1.1174298524856567, Loss G: 1.3152740001678467, Fake Score: 0.2980197072029114, K: 1\n",
      "Epoch [21/50] Loss D: 0.9951149821281433, Loss G: 1.1889784336090088, Fake Score: 0.3411670923233032, K: 1\n",
      "Epoch [22/50] Loss D: 1.0107568502426147, Loss G: 1.1343121528625488, Fake Score: 0.3678690791130066, K: 1\n",
      "Epoch [23/50] Loss D: 1.1279302835464478, Loss G: 1.3742762804031372, Fake Score: 0.28218093514442444, K: 1\n",
      "Epoch [24/50] Loss D: 1.0750665664672852, Loss G: 1.0858359336853027, Fake Score: 0.38491004705429077, K: 1\n",
      "Epoch [25/50] Loss D: 1.0602138042449951, Loss G: 1.527808666229248, Fake Score: 0.2530374228954315, K: 2\n",
      "Epoch [26/50] Loss D: 0.9941123723983765, Loss G: 1.3481335639953613, Fake Score: 0.30005937814712524, K: 2\n",
      "Epoch [27/50] Loss D: 1.126920461654663, Loss G: 0.8444303870201111, Fake Score: 0.4749269187450409, K: 1\n",
      "Epoch [28/50] Loss D: 0.9887059330940247, Loss G: 1.3149003982543945, Fake Score: 0.30646833777427673, K: 2\n",
      "Epoch [29/50] Loss D: 0.9831010103225708, Loss G: 1.3029561042785645, Fake Score: 0.3183692693710327, K: 2\n",
      "Epoch [30/50] Loss D: 1.055694341659546, Loss G: 1.0342179536819458, Fake Score: 0.4177255630493164, K: 1\n",
      "Epoch [31/50] Loss D: 1.139662742614746, Loss G: 1.1981492042541504, Fake Score: 0.34973791241645813, K: 1\n",
      "Epoch [32/50] Loss D: 1.0799603462219238, Loss G: 1.152148962020874, Fake Score: 0.36873406171798706, K: 1\n",
      "Epoch [33/50] Loss D: 0.9848214387893677, Loss G: 1.2941244840621948, Fake Score: 0.32653898000717163, K: 2\n",
      "Epoch [34/50] Loss D: 1.0508663654327393, Loss G: 1.1892499923706055, Fake Score: 0.35100460052490234, K: 1\n",
      "Epoch [35/50] Loss D: 1.1349835395812988, Loss G: 1.200422763824463, Fake Score: 0.3503741919994354, K: 1\n",
      "Epoch [36/50] Loss D: 0.9384121298789978, Loss G: 1.4133989810943604, Fake Score: 0.3033936023712158, K: 2\n",
      "Traceback (most recent call last):\n",
      "  File \"/Users/quemingfei/data/workspace/PycharmProjects/buaa-ai-gan/venv/lib/python3.6/site-packages/IPython/core/interactiveshell.py\", line 3343, in run_code\n",
      "    exec(code_obj, self.user_global_ns, self.user_ns)\n",
      "  File \"<ipython-input-7-93f072c2da7d>\", line 20, in <module>\n",
      "    loss, device, num_epochs=EPOCHS, batch_size=BATCH_SIZE)\n",
      "  File \"<ipython-input-6-79fc8f3b021d>\", line 20, in train_gan\n",
      "    for batch_idx, (data, label) in enumerate(data_iter):\n",
      "  File \"/Users/quemingfei/data/workspace/PycharmProjects/buaa-ai-gan/venv/lib/python3.6/site-packages/torch/utils/data/dataloader.py\", line 521, in __next__\n",
      "    data = self._next_data()\n",
      "  File \"/Users/quemingfei/data/workspace/PycharmProjects/buaa-ai-gan/venv/lib/python3.6/site-packages/torch/utils/data/dataloader.py\", line 561, in _next_data\n",
      "    data = self._dataset_fetcher.fetch(index)  # may raise StopIteration\n",
      "  File \"/Users/quemingfei/data/workspace/PycharmProjects/buaa-ai-gan/venv/lib/python3.6/site-packages/torch/utils/data/_utils/fetch.py\", line 49, in fetch\n",
      "    data = [self.dataset[idx] for idx in possibly_batched_index]\n",
      "  File \"/Users/quemingfei/data/workspace/PycharmProjects/buaa-ai-gan/venv/lib/python3.6/site-packages/torch/utils/data/_utils/fetch.py\", line 49, in <listcomp>\n",
      "    data = [self.dataset[idx] for idx in possibly_batched_index]\n",
      "  File \"/Users/quemingfei/data/workspace/PycharmProjects/buaa-ai-gan/venv/lib/python3.6/site-packages/torchvision/datasets/mnist.py\", line 134, in __getitem__\n",
      "    img = self.transform(img)\n",
      "  File \"/Users/quemingfei/data/workspace/PycharmProjects/buaa-ai-gan/venv/lib/python3.6/site-packages/torchvision/transforms/transforms.py\", line 61, in __call__\n",
      "    img = t(img)\n",
      "  File \"/Users/quemingfei/data/workspace/PycharmProjects/buaa-ai-gan/venv/lib/python3.6/site-packages/torchvision/transforms/transforms.py\", line 98, in __call__\n",
      "    return F.to_tensor(pic)\n",
      "  File \"/Users/quemingfei/data/workspace/PycharmProjects/buaa-ai-gan/venv/lib/python3.6/site-packages/torchvision/transforms/functional.py\", line 141, in to_tensor\n",
      "    np.array(pic, mode_to_nptype.get(pic.mode, np.uint8), copy=True)\n",
      "  File \"/Users/quemingfei/data/workspace/PycharmProjects/buaa-ai-gan/venv/lib/python3.6/site-packages/PIL/Image.py\", line 700, in __array__\n",
      "    class ArrayData:\n",
      "KeyboardInterrupt\n",
      "\n",
      "During handling of the above exception, another exception occurred:\n",
      "\n",
      "Traceback (most recent call last):\n",
      "  File \"/Users/quemingfei/data/workspace/PycharmProjects/buaa-ai-gan/venv/lib/python3.6/site-packages/IPython/core/interactiveshell.py\", line 2044, in showtraceback\n",
      "    stb = value._render_traceback_()\n",
      "AttributeError: 'KeyboardInterrupt' object has no attribute '_render_traceback_'\n",
      "\n",
      "During handling of the above exception, another exception occurred:\n",
      "\n",
      "Traceback (most recent call last):\n",
      "  File \"/Users/quemingfei/data/workspace/PycharmProjects/buaa-ai-gan/venv/lib/python3.6/site-packages/IPython/core/ultratb.py\", line 1169, in get_records\n",
      "    return _fixed_getinnerframes(etb, number_of_lines_of_context, tb_offset)\n",
      "  File \"/Users/quemingfei/data/workspace/PycharmProjects/buaa-ai-gan/venv/lib/python3.6/site-packages/IPython/core/ultratb.py\", line 316, in wrapped\n",
      "    return f(*args, **kwargs)\n",
      "  File \"/Users/quemingfei/data/workspace/PycharmProjects/buaa-ai-gan/venv/lib/python3.6/site-packages/IPython/core/ultratb.py\", line 350, in _fixed_getinnerframes\n",
      "    records = fix_frame_records_filenames(inspect.getinnerframes(etb, context))\n",
      "  File \"/Users/quemingfei/anaconda3/lib/python3.6/inspect.py\", line 1483, in getinnerframes\n",
      "    frameinfo = (tb.tb_frame,) + getframeinfo(tb, context)\n",
      "  File \"/Users/quemingfei/anaconda3/lib/python3.6/inspect.py\", line 1441, in getframeinfo\n",
      "    filename = getsourcefile(frame) or getfile(frame)\n",
      "  File \"/Users/quemingfei/anaconda3/lib/python3.6/inspect.py\", line 696, in getsourcefile\n",
      "    if getattr(getmodule(object, filename), '__loader__', None) is not None:\n",
      "  File \"/Users/quemingfei/anaconda3/lib/python3.6/inspect.py\", line 739, in getmodule\n",
      "    f = getabsfile(module)\n",
      "  File \"/Users/quemingfei/anaconda3/lib/python3.6/inspect.py\", line 708, in getabsfile\n",
      "    _filename = getsourcefile(object) or getfile(object)\n",
      "  File \"/Users/quemingfei/anaconda3/lib/python3.6/inspect.py\", line 693, in getsourcefile\n",
      "    if os.path.exists(filename):\n",
      "  File \"/Users/quemingfei/anaconda3/lib/python3.6/genericpath.py\", line 19, in exists\n",
      "    os.stat(path)\n",
      "KeyboardInterrupt\n"
     ]
    },
    {
     "name": "stderr",
     "output_type": "stream",
     "text": [
      "ERROR:root:Internal Python error in the inspect module.\n",
      "Below is the traceback from this internal error.\n",
      "\n"
     ]
    },
    {
     "ename": "TypeError",
     "evalue": "object of type 'NoneType' has no len()",
     "output_type": "error",
     "traceback": [
      "\u001B[0;31m---------------------------------------------------------------------------\u001B[0m",
      "\u001B[0;31mKeyboardInterrupt\u001B[0m                         Traceback (most recent call last)",
      "    \u001B[0;31m[... skipping hidden 1 frame]\u001B[0m\n",
      "\u001B[0;32m<ipython-input-7-93f072c2da7d>\u001B[0m in \u001B[0;36m<module>\u001B[0;34m\u001B[0m\n\u001B[1;32m     19\u001B[0m result_batch_epoch, result_each_epoch = train_gan(data_loader, discriminator, generator, optimizerD, optimizerG,\n\u001B[0;32m---> 20\u001B[0;31m                                                   loss, device, num_epochs=EPOCHS, batch_size=BATCH_SIZE)\n\u001B[0m\u001B[1;32m     21\u001B[0m \u001B[0;34m\u001B[0m\u001B[0m\n",
      "\u001B[0;32m<ipython-input-6-79fc8f3b021d>\u001B[0m in \u001B[0;36mtrain_gan\u001B[0;34m(data_iter, netD, netG, optimizerD, optimizerG, loss, device, num_epochs, batch_size)\u001B[0m\n\u001B[1;32m     19\u001B[0m     \u001B[0;32mfor\u001B[0m \u001B[0mepoch\u001B[0m \u001B[0;32min\u001B[0m \u001B[0mrange\u001B[0m\u001B[0;34m(\u001B[0m\u001B[0mnum_epochs\u001B[0m\u001B[0;34m)\u001B[0m\u001B[0;34m:\u001B[0m\u001B[0;34m\u001B[0m\u001B[0m\n\u001B[0;32m---> 20\u001B[0;31m         \u001B[0;32mfor\u001B[0m \u001B[0mbatch_idx\u001B[0m\u001B[0;34m,\u001B[0m \u001B[0;34m(\u001B[0m\u001B[0mdata\u001B[0m\u001B[0;34m,\u001B[0m \u001B[0mlabel\u001B[0m\u001B[0;34m)\u001B[0m \u001B[0;32min\u001B[0m \u001B[0menumerate\u001B[0m\u001B[0;34m(\u001B[0m\u001B[0mdata_iter\u001B[0m\u001B[0;34m)\u001B[0m\u001B[0;34m:\u001B[0m\u001B[0;34m\u001B[0m\u001B[0m\n\u001B[0m\u001B[1;32m     21\u001B[0m             \u001B[0mnetD\u001B[0m\u001B[0;34m.\u001B[0m\u001B[0mto\u001B[0m\u001B[0;34m(\u001B[0m\u001B[0mdevice\u001B[0m\u001B[0;34m)\u001B[0m\u001B[0;34m\u001B[0m\u001B[0m\n",
      "\u001B[0;32m~/data/workspace/PycharmProjects/buaa-ai-gan/venv/lib/python3.6/site-packages/torch/utils/data/dataloader.py\u001B[0m in \u001B[0;36m__next__\u001B[0;34m(self)\u001B[0m\n\u001B[1;32m    520\u001B[0m                 \u001B[0mself\u001B[0m\u001B[0;34m.\u001B[0m\u001B[0m_reset\u001B[0m\u001B[0;34m(\u001B[0m\u001B[0;34m)\u001B[0m\u001B[0;34m\u001B[0m\u001B[0m\n\u001B[0;32m--> 521\u001B[0;31m             \u001B[0mdata\u001B[0m \u001B[0;34m=\u001B[0m \u001B[0mself\u001B[0m\u001B[0;34m.\u001B[0m\u001B[0m_next_data\u001B[0m\u001B[0;34m(\u001B[0m\u001B[0;34m)\u001B[0m\u001B[0;34m\u001B[0m\u001B[0m\n\u001B[0m\u001B[1;32m    522\u001B[0m             \u001B[0mself\u001B[0m\u001B[0;34m.\u001B[0m\u001B[0m_num_yielded\u001B[0m \u001B[0;34m+=\u001B[0m \u001B[0;36m1\u001B[0m\u001B[0;34m\u001B[0m\u001B[0m\n",
      "\u001B[0;32m~/data/workspace/PycharmProjects/buaa-ai-gan/venv/lib/python3.6/site-packages/torch/utils/data/dataloader.py\u001B[0m in \u001B[0;36m_next_data\u001B[0;34m(self)\u001B[0m\n\u001B[1;32m    560\u001B[0m         \u001B[0mindex\u001B[0m \u001B[0;34m=\u001B[0m \u001B[0mself\u001B[0m\u001B[0;34m.\u001B[0m\u001B[0m_next_index\u001B[0m\u001B[0;34m(\u001B[0m\u001B[0;34m)\u001B[0m  \u001B[0;31m# may raise StopIteration\u001B[0m\u001B[0;34m\u001B[0m\u001B[0m\n\u001B[0;32m--> 561\u001B[0;31m         \u001B[0mdata\u001B[0m \u001B[0;34m=\u001B[0m \u001B[0mself\u001B[0m\u001B[0;34m.\u001B[0m\u001B[0m_dataset_fetcher\u001B[0m\u001B[0;34m.\u001B[0m\u001B[0mfetch\u001B[0m\u001B[0;34m(\u001B[0m\u001B[0mindex\u001B[0m\u001B[0;34m)\u001B[0m  \u001B[0;31m# may raise StopIteration\u001B[0m\u001B[0;34m\u001B[0m\u001B[0m\n\u001B[0m\u001B[1;32m    562\u001B[0m         \u001B[0;32mif\u001B[0m \u001B[0mself\u001B[0m\u001B[0;34m.\u001B[0m\u001B[0m_pin_memory\u001B[0m\u001B[0;34m:\u001B[0m\u001B[0;34m\u001B[0m\u001B[0m\n",
      "\u001B[0;32m~/data/workspace/PycharmProjects/buaa-ai-gan/venv/lib/python3.6/site-packages/torch/utils/data/_utils/fetch.py\u001B[0m in \u001B[0;36mfetch\u001B[0;34m(self, possibly_batched_index)\u001B[0m\n\u001B[1;32m     48\u001B[0m         \u001B[0;32mif\u001B[0m \u001B[0mself\u001B[0m\u001B[0;34m.\u001B[0m\u001B[0mauto_collation\u001B[0m\u001B[0;34m:\u001B[0m\u001B[0;34m\u001B[0m\u001B[0m\n\u001B[0;32m---> 49\u001B[0;31m             \u001B[0mdata\u001B[0m \u001B[0;34m=\u001B[0m \u001B[0;34m[\u001B[0m\u001B[0mself\u001B[0m\u001B[0;34m.\u001B[0m\u001B[0mdataset\u001B[0m\u001B[0;34m[\u001B[0m\u001B[0midx\u001B[0m\u001B[0;34m]\u001B[0m \u001B[0;32mfor\u001B[0m \u001B[0midx\u001B[0m \u001B[0;32min\u001B[0m \u001B[0mpossibly_batched_index\u001B[0m\u001B[0;34m]\u001B[0m\u001B[0;34m\u001B[0m\u001B[0m\n\u001B[0m\u001B[1;32m     50\u001B[0m         \u001B[0;32melse\u001B[0m\u001B[0;34m:\u001B[0m\u001B[0;34m\u001B[0m\u001B[0m\n",
      "\u001B[0;32m~/data/workspace/PycharmProjects/buaa-ai-gan/venv/lib/python3.6/site-packages/torch/utils/data/_utils/fetch.py\u001B[0m in \u001B[0;36m<listcomp>\u001B[0;34m(.0)\u001B[0m\n\u001B[1;32m     48\u001B[0m         \u001B[0;32mif\u001B[0m \u001B[0mself\u001B[0m\u001B[0;34m.\u001B[0m\u001B[0mauto_collation\u001B[0m\u001B[0;34m:\u001B[0m\u001B[0;34m\u001B[0m\u001B[0m\n\u001B[0;32m---> 49\u001B[0;31m             \u001B[0mdata\u001B[0m \u001B[0;34m=\u001B[0m \u001B[0;34m[\u001B[0m\u001B[0mself\u001B[0m\u001B[0;34m.\u001B[0m\u001B[0mdataset\u001B[0m\u001B[0;34m[\u001B[0m\u001B[0midx\u001B[0m\u001B[0;34m]\u001B[0m \u001B[0;32mfor\u001B[0m \u001B[0midx\u001B[0m \u001B[0;32min\u001B[0m \u001B[0mpossibly_batched_index\u001B[0m\u001B[0;34m]\u001B[0m\u001B[0;34m\u001B[0m\u001B[0m\n\u001B[0m\u001B[1;32m     50\u001B[0m         \u001B[0;32melse\u001B[0m\u001B[0;34m:\u001B[0m\u001B[0;34m\u001B[0m\u001B[0m\n",
      "\u001B[0;32m~/data/workspace/PycharmProjects/buaa-ai-gan/venv/lib/python3.6/site-packages/torchvision/datasets/mnist.py\u001B[0m in \u001B[0;36m__getitem__\u001B[0;34m(self, index)\u001B[0m\n\u001B[1;32m    133\u001B[0m         \u001B[0;32mif\u001B[0m \u001B[0mself\u001B[0m\u001B[0;34m.\u001B[0m\u001B[0mtransform\u001B[0m \u001B[0;32mis\u001B[0m \u001B[0;32mnot\u001B[0m \u001B[0;32mNone\u001B[0m\u001B[0;34m:\u001B[0m\u001B[0;34m\u001B[0m\u001B[0m\n\u001B[0;32m--> 134\u001B[0;31m             \u001B[0mimg\u001B[0m \u001B[0;34m=\u001B[0m \u001B[0mself\u001B[0m\u001B[0;34m.\u001B[0m\u001B[0mtransform\u001B[0m\u001B[0;34m(\u001B[0m\u001B[0mimg\u001B[0m\u001B[0;34m)\u001B[0m\u001B[0;34m\u001B[0m\u001B[0m\n\u001B[0m\u001B[1;32m    135\u001B[0m \u001B[0;34m\u001B[0m\u001B[0m\n",
      "\u001B[0;32m~/data/workspace/PycharmProjects/buaa-ai-gan/venv/lib/python3.6/site-packages/torchvision/transforms/transforms.py\u001B[0m in \u001B[0;36m__call__\u001B[0;34m(self, img)\u001B[0m\n\u001B[1;32m     60\u001B[0m         \u001B[0;32mfor\u001B[0m \u001B[0mt\u001B[0m \u001B[0;32min\u001B[0m \u001B[0mself\u001B[0m\u001B[0;34m.\u001B[0m\u001B[0mtransforms\u001B[0m\u001B[0;34m:\u001B[0m\u001B[0;34m\u001B[0m\u001B[0m\n\u001B[0;32m---> 61\u001B[0;31m             \u001B[0mimg\u001B[0m \u001B[0;34m=\u001B[0m \u001B[0mt\u001B[0m\u001B[0;34m(\u001B[0m\u001B[0mimg\u001B[0m\u001B[0;34m)\u001B[0m\u001B[0;34m\u001B[0m\u001B[0m\n\u001B[0m\u001B[1;32m     62\u001B[0m         \u001B[0;32mreturn\u001B[0m \u001B[0mimg\u001B[0m\u001B[0;34m\u001B[0m\u001B[0m\n",
      "\u001B[0;32m~/data/workspace/PycharmProjects/buaa-ai-gan/venv/lib/python3.6/site-packages/torchvision/transforms/transforms.py\u001B[0m in \u001B[0;36m__call__\u001B[0;34m(self, pic)\u001B[0m\n\u001B[1;32m     97\u001B[0m         \"\"\"\n\u001B[0;32m---> 98\u001B[0;31m         \u001B[0;32mreturn\u001B[0m \u001B[0mF\u001B[0m\u001B[0;34m.\u001B[0m\u001B[0mto_tensor\u001B[0m\u001B[0;34m(\u001B[0m\u001B[0mpic\u001B[0m\u001B[0;34m)\u001B[0m\u001B[0;34m\u001B[0m\u001B[0m\n\u001B[0m\u001B[1;32m     99\u001B[0m \u001B[0;34m\u001B[0m\u001B[0m\n",
      "\u001B[0;32m~/data/workspace/PycharmProjects/buaa-ai-gan/venv/lib/python3.6/site-packages/torchvision/transforms/functional.py\u001B[0m in \u001B[0;36mto_tensor\u001B[0;34m(pic)\u001B[0m\n\u001B[1;32m    140\u001B[0m     img = torch.from_numpy(\n\u001B[0;32m--> 141\u001B[0;31m         \u001B[0mnp\u001B[0m\u001B[0;34m.\u001B[0m\u001B[0marray\u001B[0m\u001B[0;34m(\u001B[0m\u001B[0mpic\u001B[0m\u001B[0;34m,\u001B[0m \u001B[0mmode_to_nptype\u001B[0m\u001B[0;34m.\u001B[0m\u001B[0mget\u001B[0m\u001B[0;34m(\u001B[0m\u001B[0mpic\u001B[0m\u001B[0;34m.\u001B[0m\u001B[0mmode\u001B[0m\u001B[0;34m,\u001B[0m \u001B[0mnp\u001B[0m\u001B[0;34m.\u001B[0m\u001B[0muint8\u001B[0m\u001B[0;34m)\u001B[0m\u001B[0;34m,\u001B[0m \u001B[0mcopy\u001B[0m\u001B[0;34m=\u001B[0m\u001B[0;32mTrue\u001B[0m\u001B[0;34m)\u001B[0m\u001B[0;34m\u001B[0m\u001B[0m\n\u001B[0m\u001B[1;32m    142\u001B[0m     )\n",
      "\u001B[0;32m~/data/workspace/PycharmProjects/buaa-ai-gan/venv/lib/python3.6/site-packages/PIL/Image.py\u001B[0m in \u001B[0;36m__array__\u001B[0;34m(self, dtype)\u001B[0m\n\u001B[1;32m    699\u001B[0m \u001B[0;34m\u001B[0m\u001B[0m\n\u001B[0;32m--> 700\u001B[0;31m         \u001B[0;32mclass\u001B[0m \u001B[0mArrayData\u001B[0m\u001B[0;34m:\u001B[0m\u001B[0;34m\u001B[0m\u001B[0m\n\u001B[0m\u001B[1;32m    701\u001B[0m             \u001B[0m__array_interface__\u001B[0m \u001B[0;34m=\u001B[0m \u001B[0mnew\u001B[0m\u001B[0;34m\u001B[0m\u001B[0m\n",
      "\u001B[0;31mKeyboardInterrupt\u001B[0m: ",
      "\nDuring handling of the above exception, another exception occurred:\n",
      "\u001B[0;31mAttributeError\u001B[0m                            Traceback (most recent call last)",
      "\u001B[0;32m~/data/workspace/PycharmProjects/buaa-ai-gan/venv/lib/python3.6/site-packages/IPython/core/interactiveshell.py\u001B[0m in \u001B[0;36mshowtraceback\u001B[0;34m(self, exc_tuple, filename, tb_offset, exception_only, running_compiled_code)\u001B[0m\n\u001B[1;32m   2043\u001B[0m                         \u001B[0;31m# in the engines. This should return a list of strings.\u001B[0m\u001B[0;34m\u001B[0m\u001B[0;34m\u001B[0m\u001B[0m\n\u001B[0;32m-> 2044\u001B[0;31m                         \u001B[0mstb\u001B[0m \u001B[0;34m=\u001B[0m \u001B[0mvalue\u001B[0m\u001B[0;34m.\u001B[0m\u001B[0m_render_traceback_\u001B[0m\u001B[0;34m(\u001B[0m\u001B[0;34m)\u001B[0m\u001B[0;34m\u001B[0m\u001B[0m\n\u001B[0m\u001B[1;32m   2045\u001B[0m                     \u001B[0;32mexcept\u001B[0m \u001B[0mException\u001B[0m\u001B[0;34m:\u001B[0m\u001B[0;34m\u001B[0m\u001B[0m\n",
      "\u001B[0;31mAttributeError\u001B[0m: 'KeyboardInterrupt' object has no attribute '_render_traceback_'",
      "\nDuring handling of the above exception, another exception occurred:\n",
      "\u001B[0;31mTypeError\u001B[0m                                 Traceback (most recent call last)",
      "    \u001B[0;31m[... skipping hidden 1 frame]\u001B[0m\n",
      "\u001B[0;32m~/data/workspace/PycharmProjects/buaa-ai-gan/venv/lib/python3.6/site-packages/IPython/core/interactiveshell.py\u001B[0m in \u001B[0;36mshowtraceback\u001B[0;34m(self, exc_tuple, filename, tb_offset, exception_only, running_compiled_code)\u001B[0m\n\u001B[1;32m   2045\u001B[0m                     \u001B[0;32mexcept\u001B[0m \u001B[0mException\u001B[0m\u001B[0;34m:\u001B[0m\u001B[0;34m\u001B[0m\u001B[0m\n\u001B[1;32m   2046\u001B[0m                         stb = self.InteractiveTB.structured_traceback(etype,\n\u001B[0;32m-> 2047\u001B[0;31m                                             value, tb, tb_offset=tb_offset)\n\u001B[0m\u001B[1;32m   2048\u001B[0m \u001B[0;34m\u001B[0m\u001B[0m\n\u001B[1;32m   2049\u001B[0m                     \u001B[0mself\u001B[0m\u001B[0;34m.\u001B[0m\u001B[0m_showtraceback\u001B[0m\u001B[0;34m(\u001B[0m\u001B[0metype\u001B[0m\u001B[0;34m,\u001B[0m \u001B[0mvalue\u001B[0m\u001B[0;34m,\u001B[0m \u001B[0mstb\u001B[0m\u001B[0;34m)\u001B[0m\u001B[0;34m\u001B[0m\u001B[0m\n",
      "\u001B[0;32m~/data/workspace/PycharmProjects/buaa-ai-gan/venv/lib/python3.6/site-packages/IPython/core/ultratb.py\u001B[0m in \u001B[0;36mstructured_traceback\u001B[0;34m(self, etype, value, tb, tb_offset, number_of_lines_of_context)\u001B[0m\n\u001B[1;32m   1434\u001B[0m             \u001B[0mself\u001B[0m\u001B[0;34m.\u001B[0m\u001B[0mtb\u001B[0m \u001B[0;34m=\u001B[0m \u001B[0mtb\u001B[0m\u001B[0;34m\u001B[0m\u001B[0m\n\u001B[1;32m   1435\u001B[0m         return FormattedTB.structured_traceback(\n\u001B[0;32m-> 1436\u001B[0;31m             self, etype, value, tb, tb_offset, number_of_lines_of_context)\n\u001B[0m\u001B[1;32m   1437\u001B[0m \u001B[0;34m\u001B[0m\u001B[0m\n\u001B[1;32m   1438\u001B[0m \u001B[0;34m\u001B[0m\u001B[0m\n",
      "\u001B[0;32m~/data/workspace/PycharmProjects/buaa-ai-gan/venv/lib/python3.6/site-packages/IPython/core/ultratb.py\u001B[0m in \u001B[0;36mstructured_traceback\u001B[0;34m(self, etype, value, tb, tb_offset, number_of_lines_of_context)\u001B[0m\n\u001B[1;32m   1334\u001B[0m             \u001B[0;31m# Verbose modes need a full traceback\u001B[0m\u001B[0;34m\u001B[0m\u001B[0;34m\u001B[0m\u001B[0m\n\u001B[1;32m   1335\u001B[0m             return VerboseTB.structured_traceback(\n\u001B[0;32m-> 1336\u001B[0;31m                 \u001B[0mself\u001B[0m\u001B[0;34m,\u001B[0m \u001B[0metype\u001B[0m\u001B[0;34m,\u001B[0m \u001B[0mvalue\u001B[0m\u001B[0;34m,\u001B[0m \u001B[0mtb\u001B[0m\u001B[0;34m,\u001B[0m \u001B[0mtb_offset\u001B[0m\u001B[0;34m,\u001B[0m \u001B[0mnumber_of_lines_of_context\u001B[0m\u001B[0;34m\u001B[0m\u001B[0m\n\u001B[0m\u001B[1;32m   1337\u001B[0m             )\n\u001B[1;32m   1338\u001B[0m         \u001B[0;32melif\u001B[0m \u001B[0mmode\u001B[0m \u001B[0;34m==\u001B[0m \u001B[0;34m'Minimal'\u001B[0m\u001B[0;34m:\u001B[0m\u001B[0;34m\u001B[0m\u001B[0m\n",
      "\u001B[0;32m~/data/workspace/PycharmProjects/buaa-ai-gan/venv/lib/python3.6/site-packages/IPython/core/ultratb.py\u001B[0m in \u001B[0;36mstructured_traceback\u001B[0;34m(self, etype, evalue, etb, tb_offset, number_of_lines_of_context)\u001B[0m\n\u001B[1;32m   1191\u001B[0m \u001B[0;34m\u001B[0m\u001B[0m\n\u001B[1;32m   1192\u001B[0m         formatted_exception = self.format_exception_as_a_whole(etype, evalue, etb, number_of_lines_of_context,\n\u001B[0;32m-> 1193\u001B[0;31m                                                                tb_offset)\n\u001B[0m\u001B[1;32m   1194\u001B[0m \u001B[0;34m\u001B[0m\u001B[0m\n\u001B[1;32m   1195\u001B[0m         \u001B[0mcolors\u001B[0m \u001B[0;34m=\u001B[0m \u001B[0mself\u001B[0m\u001B[0;34m.\u001B[0m\u001B[0mColors\u001B[0m  \u001B[0;31m# just a shorthand + quicker name lookup\u001B[0m\u001B[0;34m\u001B[0m\u001B[0m\n",
      "\u001B[0;32m~/data/workspace/PycharmProjects/buaa-ai-gan/venv/lib/python3.6/site-packages/IPython/core/ultratb.py\u001B[0m in \u001B[0;36mformat_exception_as_a_whole\u001B[0;34m(self, etype, evalue, etb, number_of_lines_of_context, tb_offset)\u001B[0m\n\u001B[1;32m   1148\u001B[0m \u001B[0;34m\u001B[0m\u001B[0m\n\u001B[1;32m   1149\u001B[0m \u001B[0;34m\u001B[0m\u001B[0m\n\u001B[0;32m-> 1150\u001B[0;31m         \u001B[0mlast_unique\u001B[0m\u001B[0;34m,\u001B[0m \u001B[0mrecursion_repeat\u001B[0m \u001B[0;34m=\u001B[0m \u001B[0mfind_recursion\u001B[0m\u001B[0;34m(\u001B[0m\u001B[0morig_etype\u001B[0m\u001B[0;34m,\u001B[0m \u001B[0mevalue\u001B[0m\u001B[0;34m,\u001B[0m \u001B[0mrecords\u001B[0m\u001B[0;34m)\u001B[0m\u001B[0;34m\u001B[0m\u001B[0m\n\u001B[0m\u001B[1;32m   1151\u001B[0m \u001B[0;34m\u001B[0m\u001B[0m\n\u001B[1;32m   1152\u001B[0m         \u001B[0mframes\u001B[0m \u001B[0;34m=\u001B[0m \u001B[0mself\u001B[0m\u001B[0;34m.\u001B[0m\u001B[0mformat_records\u001B[0m\u001B[0;34m(\u001B[0m\u001B[0mrecords\u001B[0m\u001B[0;34m,\u001B[0m \u001B[0mlast_unique\u001B[0m\u001B[0;34m,\u001B[0m \u001B[0mrecursion_repeat\u001B[0m\u001B[0;34m)\u001B[0m\u001B[0;34m\u001B[0m\u001B[0m\n",
      "\u001B[0;32m~/data/workspace/PycharmProjects/buaa-ai-gan/venv/lib/python3.6/site-packages/IPython/core/ultratb.py\u001B[0m in \u001B[0;36mfind_recursion\u001B[0;34m(etype, value, records)\u001B[0m\n\u001B[1;32m    449\u001B[0m     \u001B[0;31m# first frame (from in to out) that looks different.\u001B[0m\u001B[0;34m\u001B[0m\u001B[0;34m\u001B[0m\u001B[0m\n\u001B[1;32m    450\u001B[0m     \u001B[0;32mif\u001B[0m \u001B[0;32mnot\u001B[0m \u001B[0mis_recursion_error\u001B[0m\u001B[0;34m(\u001B[0m\u001B[0metype\u001B[0m\u001B[0;34m,\u001B[0m \u001B[0mvalue\u001B[0m\u001B[0;34m,\u001B[0m \u001B[0mrecords\u001B[0m\u001B[0;34m)\u001B[0m\u001B[0;34m:\u001B[0m\u001B[0;34m\u001B[0m\u001B[0m\n\u001B[0;32m--> 451\u001B[0;31m         \u001B[0;32mreturn\u001B[0m \u001B[0mlen\u001B[0m\u001B[0;34m(\u001B[0m\u001B[0mrecords\u001B[0m\u001B[0;34m)\u001B[0m\u001B[0;34m,\u001B[0m \u001B[0;36m0\u001B[0m\u001B[0;34m\u001B[0m\u001B[0m\n\u001B[0m\u001B[1;32m    452\u001B[0m \u001B[0;34m\u001B[0m\u001B[0m\n\u001B[1;32m    453\u001B[0m     \u001B[0;31m# Select filename, lineno, func_name to track frames with\u001B[0m\u001B[0;34m\u001B[0m\u001B[0;34m\u001B[0m\u001B[0m\n",
      "\u001B[0;31mTypeError\u001B[0m: object of type 'NoneType' has no len()"
     ]
    }
   ],
   "source": [
    "# 生成网络结构实例\n",
    "generator = Generator()\n",
    "discriminator = Discriminator()\n",
    "\n",
    "# 超参数\n",
    "BATCH_SIZE = 256\n",
    "EPOCHS = 50\n",
    "\n",
    "# 优化器\n",
    "optimizerG = torch.optim.Adam(lr=0.001, params=generator.parameters(), betas=(0.5, 0.999))\n",
    "\n",
    "optimizerD = torch.optim.Adam(lr=0.001, params=discriminator.parameters(), betas=(0.5, 0.999))\n",
    "    \n",
    "# 损失函数\n",
    "loss = nn.BCELoss()\n",
    "\n",
    "data_loader = torch.utils.data.DataLoader(mnist_train, batch_size=BATCH_SIZE, shuffle=True, drop_last=True)\n",
    "\n",
    "result_batch_epoch, result_each_epoch = train_gan(data_loader, discriminator, generator, optimizerD, optimizerG,\n",
    "                                                  loss, device, num_epochs=EPOCHS, batch_size=BATCH_SIZE)"
   ]
  },
  {
   "cell_type": "code",
   "execution_count": null,
   "metadata": {},
   "outputs": [],
   "source": [
    "plt.figure(figsize=(12, 6))\n",
    "x = np.arange(len(result_each_epoch[0]))\n",
    "plt.title('Generator and Discriminator Loss During Training')\n",
    "plt.xlabel('Number of Batch')\n",
    "plt.plot(x,np.array(result_each_epoch[0]),label='D Loss')\n",
    "plt.plot(x,np.array(result_each_epoch[1]),label='G Loss')\n",
    "plt.plot(x,np.array(result_each_epoch[2]),label='Fake Score')\n",
    "plt.legend()\n",
    "# plt.savefig('work/Generator and Discriminator Loss During Training.png')\n",
    "plt.show()"
   ]
  },
  {
   "cell_type": "code",
   "execution_count": null,
   "metadata": {},
   "outputs": [],
   "source": [
    "# 训练完成后，需要验证GAN模型的效果，此时，自定义10张噪声数据，然后用训练好的模型对测试数据进行预测。\n",
    "\n",
    "noise = torch.randn([10, 100]).to(device)\n",
    "\n",
    "fake_images = generator(noise)\n",
    "X = []\n",
    "for i in range(10):\n",
    "    img = fake_images[i].reshape((-1, 28, 28)).cpu().detach()\n",
    "    X.append(img)\n",
    "\n",
    "show_fashion_mnist(X)"
   ]
  },
  {
   "cell_type": "code",
   "execution_count": null,
   "metadata": {},
   "outputs": [],
   "source": []
  },
  {
   "cell_type": "code",
   "execution_count": null,
   "metadata": {},
   "outputs": [],
   "source": []
  }
 ],
 "metadata": {
  "kernelspec": {
   "display_name": "PyCharm (buaa-ai-gan)",
   "language": "python",
   "name": "pycharm-a7315832"
  },
  "language_info": {
   "codemirror_mode": {
    "name": "ipython",
    "version": 3
   },
   "file_extension": ".py",
   "mimetype": "text/x-python",
   "name": "python",
   "nbconvert_exporter": "python",
   "pygments_lexer": "ipython3",
   "version": "3.6.5"
  }
 },
 "nbformat": 4,
 "nbformat_minor": 4
}