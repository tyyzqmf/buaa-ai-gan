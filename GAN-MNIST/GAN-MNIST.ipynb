{
 "cells": [
  {
   "cell_type": "markdown",
   "metadata": {},
   "source": [
    "# 在MNIST数据集上用经典GAN完成图像生成\n",
    "\n",
    "经典GAN结构如下：\n",
    "![image.png](imgs/1.png)\n",
    "\n",
    "参考自https://zhuanlan.zhihu.com/p/72279816\n",
    "\n",
    "对于MNIST数据集，其包含60,000张用于训练的图像和10,000张用于测试的图像，图像大小固定为28x28像素。\n",
    "\n",
    "该数据集的官方地址为：http://yann.lecun.com/exdb/mnist/\n",
    "\n",
    "项目参考：https://aistudio.baidu.com/aistudio/projectdetail/2055395?channelType=0&channel=0"
   ]
  },
  {
   "cell_type": "code",
   "execution_count": 1,
   "metadata": {
    "pycharm": {
     "is_executing": true
    }
   },
   "outputs": [
    {
     "data": {
      "text/plain": [
       "device(type='cpu')"
      ]
     },
     "execution_count": 1,
     "metadata": {},
     "output_type": "execute_result"
    }
   ],
   "source": [
    "import torch\n",
    "from torch import nn\n",
    "import torchvision\n",
    "import torchvision.transforms as transforms\n",
    "import numpy as np\n",
    "import matplotlib.pyplot as plt\n",
    "\n",
    "import sys\n",
    "device = torch.device('cuda' if torch.cuda.is_available() else 'cpu')\n",
    "device"
   ]
  },
  {
   "cell_type": "markdown",
   "metadata": {},
   "source": [
    "## 数据准备\n",
    "通过 SSH 客户端或 JupyterLab 进入实例终端，在 /hy-public 文件夹内可以找到公共数据集。使用数据集时先将数据集复制到 hy-tmp 或 /hy-nas(仅包含共享存储机型)内，再进行解压。\n",
    "```\n",
    "mkdir -p ~/Datasets/MNIST/MNIST/raw\n",
    "cp /hy-public/MNIST/* ~/Datasets/MNIST/MNIST/raw\n",
    "```\n"
   ]
  },
  {
   "cell_type": "code",
   "execution_count": 2,
   "metadata": {
    "code_folding": [],
    "pycharm": {
     "is_executing": true
    }
   },
   "outputs": [
    {
     "name": "stdout",
     "output_type": "stream",
     "text": [
      "60000 10000\n"
     ]
    }
   ],
   "source": [
    "transform = torchvision.transforms.Compose([\n",
    "    torchvision.transforms.ToTensor()\n",
    "])\n",
    "\n",
    "mnist_train = torchvision.datasets.MNIST(root='~/Datasets/MNIST', train=True, download=True, transform=transform)\n",
    "mnist_test = torchvision.datasets.MNIST(root='~/Datasets/MNIST', train=False, download=True, transform=transform)\n",
    "\n",
    "print(len(mnist_train), len(mnist_test))"
   ]
  },
  {
   "cell_type": "markdown",
   "metadata": {},
   "source": [
    "## 数据探查"
   ]
  },
  {
   "cell_type": "code",
   "execution_count": 3,
   "metadata": {
    "pycharm": {
     "is_executing": true
    }
   },
   "outputs": [
    {
     "data": {
      "image/png": "[encoded data removed]",
      "text/plain": [
       "<Figure size 864x864 with 10 Axes>"
      ]
     },
     "metadata": {
      "needs_background": "light"
     },
     "output_type": "display_data"
    }
   ],
   "source": [
    "def show_fashion_mnist(images):\n",
    "    '''\n",
    "    显示图片\n",
    "    :param images: 图片数据，list(torch.Size([1, 28, 28]))\n",
    "    '''\n",
    "    _, figs = plt.subplots(1, len(images), figsize=(12, 12))\n",
    "    for f, img in zip(figs, images):\n",
    "        f.imshow(img.view((28, 28)).numpy())\n",
    "        f.axes.get_xaxis().set_visible(False)\n",
    "        f.axes.get_yaxis().set_visible(False)\n",
    "    plt.show()\n",
    "    \n",
    "# 取前10张图像可视化\n",
    "X = []\n",
    "for i in range(10):\n",
    "    X.append(mnist_train[i][0])\n",
    "show_fashion_mnist(X)\n"
   ]
  },
  {
   "cell_type": "markdown",
   "metadata": {},
   "source": [
    "## GAN网络搭建\n",
    "整体网络结构包括一个生成器和一个判别器，简单来说，就是让两个网络相互竞争，生成网络来生成假的数据，对抗网络通过判别器去判别真伪。\n",
    "\n",
    "### 判别器网络结构定义\n",
    "判别器的作用主要是用来完成真假图片的判别，当输入一张真实的图片时，希望判别器输出的结果是1，当输入一张生成器伪造的图片时，希望判别器输出的结果是0。"
   ]
  },
  {
   "cell_type": "code",
   "execution_count": null,
   "metadata": {
    "pycharm": {
     "is_executing": true
    }
   },
   "outputs": [],
   "source": [
    "class Discriminator(nn.Module):\n",
    "    def __init__(self):\n",
    "        super(Discriminator, self).__init__()\n",
    "        self.D = nn.Sequential(\n",
    "            nn.Linear(28*28, 256),\n",
    "            nn.LeakyReLU(0.2),\n",
    "            nn.Linear(256, 256),\n",
    "            nn.LeakyReLU(0.2),\n",
    "            nn.Linear(256, 1),\n",
    "            nn.Sigmoid()\n",
    "        )\n",
    "\n",
    "    def forward(self, x):\n",
    "        x = self.D(x)\n",
    "        return x"
   ]
  },
  {
   "cell_type": "markdown",
   "metadata": {},
   "source": [
    "### 生成器网络结构定义\n",
    "生成器的目的主要是生成以假乱真的图片，接着我们要看看如何生成一张假的图片。首先给出一个简单的高维的正态分布的噪声向量，接着通过一些全连接、卷积、池化、激活函数等操作，最后得到一个与输入图片大小一样的噪声图片，也就是假图像。"
   ]
  },
  {
   "cell_type": "code",
   "execution_count": null,
   "metadata": {
    "pycharm": {
     "is_executing": true
    }
   },
   "outputs": [],
   "source": [
    "class Generator(nn.Module):\n",
    "    def __init__(self):\n",
    "        super(Generator, self).__init__()\n",
    "        self.G = nn.Sequential(\n",
    "            nn.Linear(100, 256),\n",
    "            nn.ReLU(True),\n",
    "            nn.Linear(256, 256),\n",
    "            nn.ReLU(True),\n",
    "            nn.Linear(256, 28*28),\n",
    "            nn.Tanh()\n",
    "        )\n",
    "\n",
    "    def forward(self, x):\n",
    "        x = self.G(x)\n",
    "        return x"
   ]
  },
  {
   "cell_type": "markdown",
   "metadata": {},
   "source": [
    "## 定义模型训练函数\n"
   ]
  },
  {
   "cell_type": "code",
   "execution_count": null,
   "metadata": {
    "pycharm": {
     "is_executing": true
    }
   },
   "outputs": [],
   "source": [
    "def train_gan(data_iter, netD, netG, optimizerD, optimizerG, loss, device, num_epochs, batch_size):\n",
    "    '''\n",
    "    GAN模型训练函数\n",
    "    \n",
    "    :param data_iter: 数据迭代器，torch.utils.data.DataLoader\n",
    "    :param netD: 判别网络\n",
    "    :param netG: 生成网络\n",
    "    :param optimizerD: 判别网络优化器\n",
    "    :param optimizerG: 生成网络优化器\n",
    "    :param loss: 损失函数\n",
    "    :param device: 执行设备：cpu & gpu，\n",
    "    :param num_epochs: 迭代次数\n",
    "    :param batch_size: 批量大小\n",
    "    '''\n",
    "    result_batch_epoch = [[],[],[]]  # 存储每个batch的结果\n",
    "    result_each_epoch = [[],[],[]]  # 存储每个epoch的结果\n",
    "    K = 1\n",
    "\n",
    "    for epoch in range(num_epochs):\n",
    "        for batch_idx, (data, label) in enumerate(data_iter):\n",
    "            netD.to(device)\n",
    "            netG.to(device)\n",
    "            real_images = data.to(device).reshape((batch_size, 1, 28*28))\n",
    "\n",
    "            #训练判别器 \n",
    "            ############################\n",
    "            # (1) Update D network: maximize log(D(x)) + log(1 - D(G(z)))\n",
    "            ###########################\n",
    "            optimizerD.zero_grad()\n",
    "            # 判别真实数据，并计算损失，目的是让判别器尽量识别出真实数据\n",
    "            d_real_predict = netD(real_images)\n",
    "            d_real_loss = loss(d_real_predict, torch.ones_like(d_real_predict))\n",
    "\n",
    "            # 判别生成器生成的数据，并计算损失，目的是让判别器尽量识别出生成器伪造的数据\n",
    "            noise = torch.randn([BATCH_SIZE, 100]).to(device) # 使用正态分布噪音作为假的图片\n",
    "            fake_images = netG(noise)\n",
    "            d_fake_predict = netD(fake_images)\n",
    "            d_fake_loss = loss(d_fake_predict, torch.zeros_like(d_fake_predict))\n",
    "\n",
    "            # 训练判别器\n",
    "            d_loss = d_real_loss + d_fake_loss\n",
    "            d_loss.backward()\n",
    "            optimizerD.step()\n",
    "\n",
    "            result_batch_epoch[0].append(d_loss.cpu().detach().numpy())\n",
    "\n",
    "            ###训练生成器\n",
    "            ############################\n",
    "            # (2) Update G network: maximize log(D(G(z)))\n",
    "            ###########################\n",
    "            # 生成器生成假的图片送入判别器，并计算损失，目的是让判别器分不开真假数据。\n",
    "            for _ in range(K):\n",
    "                optimizerG.zero_grad()\n",
    "                noise = torch.randn([BATCH_SIZE, 100]).to(device)\n",
    "                fake_images = netG(noise)\n",
    "                g_fake_predict = netD(fake_images)\n",
    "                g_loss = loss(g_fake_predict, torch.ones_like(g_fake_predict))\n",
    "\n",
    "                # 训练生成器\n",
    "                g_loss.backward()\n",
    "                optimizerG.step()\n",
    "\n",
    "            result_batch_epoch[1].append(g_loss.cpu().detach().numpy())\n",
    "\n",
    "            fake_score = torch.sum(g_fake_predict).cpu().detach().numpy() / BATCH_SIZE\n",
    "            result_batch_epoch[2].append(fake_score)\n",
    "            \n",
    "            if d_loss.cpu().detach().numpy() < g_loss.cpu().detach().numpy():\n",
    "                K = int((g_loss.cpu().detach().numpy() - d_loss.cpu().detach().numpy()) * 4) + 1\n",
    "            else:\n",
    "                K = 1\n",
    "\n",
    "        result_each_epoch[0].append(d_loss.cpu().detach().numpy())\n",
    "        result_each_epoch[1].append(g_loss.cpu().detach().numpy())\n",
    "        result_each_epoch[2].append(fake_score)\n",
    "        print(f'Epoch [{epoch+1}/{EPOCHS}] Loss D: {d_loss.cpu().detach().numpy()}, Loss G: {g_loss.cpu().detach().numpy()}, Fake Score: {fake_score}, K: {K}')\n",
    "    return result_batch_epoch, result_each_epoch"
   ]
  },
  {
   "cell_type": "code",
   "execution_count": 4,
   "metadata": {
    "pycharm": {
     "is_executing": true
    }
   },
   "outputs": [
    {
     "ename": "NameError",
     "evalue": "name 'Generator' is not defined",
     "output_type": "error",
     "traceback": [
      "\u001b[0;31m---------------------------------------------------------------------------\u001b[0m",
      "\u001b[0;31mNameError\u001b[0m                                 Traceback (most recent call last)",
      "\u001b[0;32m<ipython-input-4-17b833e1d871>\u001b[0m in \u001b[0;36m<module>\u001b[0;34m\u001b[0m\n\u001b[1;32m      1\u001b[0m \u001b[0;31m# 生成网络结构实例\u001b[0m\u001b[0;34m\u001b[0m\u001b[0;34m\u001b[0m\u001b[0m\n\u001b[0;32m----> 2\u001b[0;31m \u001b[0mgenerator\u001b[0m \u001b[0;34m=\u001b[0m \u001b[0mGenerator\u001b[0m\u001b[0;34m(\u001b[0m\u001b[0;34m)\u001b[0m\u001b[0;34m\u001b[0m\u001b[0m\n\u001b[0m\u001b[1;32m      3\u001b[0m \u001b[0mdiscriminator\u001b[0m \u001b[0;34m=\u001b[0m \u001b[0mDiscriminator\u001b[0m\u001b[0;34m(\u001b[0m\u001b[0;34m)\u001b[0m\u001b[0;34m\u001b[0m\u001b[0m\n\u001b[1;32m      4\u001b[0m \u001b[0;34m\u001b[0m\u001b[0m\n\u001b[1;32m      5\u001b[0m \u001b[0;31m# 超参数\u001b[0m\u001b[0;34m\u001b[0m\u001b[0;34m\u001b[0m\u001b[0m\n",
      "\u001b[0;31mNameError\u001b[0m: name 'Generator' is not defined"
     ]
    }
   ],
   "source": [
    "# 生成网络结构实例\n",
    "generator = Generator()\n",
    "discriminator = Discriminator()\n",
    "\n",
    "# 超参数\n",
    "BATCH_SIZE = 256\n",
    "EPOCHS = 50\n",
    "\n",
    "# 优化器\n",
    "optimizerG = torch.optim.Adam(lr=0.001, params=generator.parameters(), betas=(0.5, 0.999))\n",
    "\n",
    "optimizerD = torch.optim.Adam(lr=0.001, params=discriminator.parameters(), betas=(0.5, 0.999))\n",
    "    \n",
    "# 损失函数\n",
    "loss = nn.BCELoss()\n",
    "\n",
    "data_loader = torch.utils.data.DataLoader(mnist_train, batch_size=BATCH_SIZE, shuffle=True, drop_last=True)\n",
    "\n",
    "result_batch_epoch, result_each_epoch = train_gan(data_loader, discriminator, generator, optimizerD, optimizerG,\n",
    "                                                  loss, device, num_epochs=EPOCHS, batch_size=BATCH_SIZE)"
   ]
  },
  {
   "cell_type": "code",
   "execution_count": null,
   "metadata": {
    "pycharm": {
     "is_executing": true
    }
   },
   "outputs": [],
   "source": [
    "plt.figure(figsize=(12, 6))\n",
    "x = np.arange(len(result_each_epoch[0]))\n",
    "plt.title('Generator and Discriminator Loss During Training')\n",
    "plt.xlabel('Number of Batch')\n",
    "plt.plot(x,np.array(result_each_epoch[0]),label='D Loss')\n",
    "plt.plot(x,np.array(result_each_epoch[1]),label='G Loss')\n",
    "plt.plot(x,np.array(result_each_epoch[2]),label='Fake Score')\n",
    "plt.legend()\n",
    "# plt.savefig('work/Generator and Discriminator Loss During Training.png')\n",
    "plt.show()"
   ]
  },
  {
   "cell_type": "code",
   "execution_count": null,
   "metadata": {
    "pycharm": {
     "is_executing": true
    }
   },
   "outputs": [],
   "source": [
    "# 训练完成后，需要验证GAN模型的效果，此时，自定义10张噪声数据，然后用训练好的模型对测试数据进行预测。\n",
    "\n",
    "noise = torch.randn([10, 100]).to(device)\n",
    "\n",
    "fake_images = generator(noise)\n",
    "X = []\n",
    "for i in range(10):\n",
    "    img = fake_images[i].reshape((-1, 28, 28)).cpu().detach()\n",
    "    X.append(img)\n",
    "\n",
    "show_fashion_mnist(X)"
   ]
  },
  {
   "cell_type": "code",
   "execution_count": null,
   "metadata": {
    "pycharm": {
     "is_executing": true
    }
   },
   "outputs": [],
   "source": []
  },
  {
   "cell_type": "code",
   "execution_count": null,
   "metadata": {
    "pycharm": {
     "is_executing": true
    }
   },
   "outputs": [],
   "source": []
  }
 ],
 "metadata": {
  "kernelspec": {
   "display_name": "PyCharm (buaa-ai-gan)",
   "language": "python",
   "name": "pycharm-a7315832"
  },
  "language_info": {
   "codemirror_mode": {
    "name": "ipython",
    "version": 3
   },
   "file_extension": ".py",
   "mimetype": "text/x-python",
   "name": "python",
   "nbconvert_exporter": "python",
   "pygments_lexer": "ipython3",
   "version": "3.6.5"
  }
 },
 "nbformat": 4,
 "nbformat_minor": 4
}
