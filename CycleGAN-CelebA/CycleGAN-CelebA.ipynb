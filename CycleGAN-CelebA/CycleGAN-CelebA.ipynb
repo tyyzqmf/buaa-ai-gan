{
 "cells": [
  {
   "cell_type": "markdown",
   "metadata": {},
   "source": [
    "mkdir -p /hy-tmp/Datasets\n",
    "\n",
    "cp -r /hy-public/CelebA /hy-tmp/Datasets\n",
    "\n",
    "unzip -q -o /hy-tmp/Datasets/CelebA/Img/img_align_celeba.zip -d /hy-tmp/Datasets/CelebA\n",
    "\n",
    "python split_img.py \n",
    "\n",
    "python train.py --n_epochs 200 --batchSize 128 --dataroot /hy-tmp/Datasets/CelebA --cuda\n",
    "\n",
    "python train.py \\\n",
    "--n_epochs 200 \\\n",
    "--batchSize 8 \\\n",
    "--dataroot /hy-tmp/Datasets/CelebA/ \\\n",
    "--generator_A2B models/v1/netG_A2B.pth \\\n",
    "--generator_B2A models/v1/netG_B2A.pth \\\n",
    "--discriminator_A models/v1/netD_A.pth \\\n",
    "--discriminator_B models/v1/netD_B.pth \\\n",
    "--cuda\n"
   ]
  },
  {
   "cell_type": "markdown",
   "metadata": {},
   "source": [
    "# 从网盘下载数据集\n",
    "```\n",
    "mkdir -p /hy-tmp/buaa-ai-gan/CycleGAN-CelebA/data/train\n",
    "oss cp oss://data/man2woman.zip /hy-tmp/buaa-ai-gan/CycleGAN-CelebA/data/\n",
    "unzip -q -o /hy-tmp/buaa-ai-gan/CycleGAN-CelebA/data/man2woman.zip -d /hy-tmp/buaa-ai-gan/CycleGAN-CelebA/data/\n",
    "mv /hy-tmp/buaa-ai-gan/CycleGAN-CelebA/data/a_resized /hy-tmp/buaa-ai-gan/CycleGAN-CelebA/data/train/A\n",
    "mv /hy-tmp/buaa-ai-gan/CycleGAN-CelebA/data/b_resized /hy-tmp/buaa-ai-gan/CycleGAN-CelebA/data/train/B\n",
    "```\n",
    "\n",
    "# 从网盘下载预训练参数\n",
    "```\n",
    "mkdir -p /hy-tmp/buaa-ai-gan/CycleGAN-CelebA/models\n",
    "oss cp oss://models/Gender_Change.zip /hy-tmp/buaa-ai-gan/CycleGAN-CelebA/models/\n",
    "unzip -q -o /hy-tmp/buaa-ai-gan/CycleGAN-CelebA/models/Gender_Change.zip -d /hy-tmp/buaa-ai-gan/CycleGAN-CelebA/models/\n",
    "\n",
    "oss cp oss://models/mv1.zip /hy-tmp/buaa-ai-gan/CycleGAN-CelebA/models/\n",
    "unzip -q -o /hy-tmp/buaa-ai-gan/CycleGAN-CelebA/models/mv1.zip -d /hy-tmp/buaa-ai-gan/CycleGAN-CelebA/models/\n",
    "\n",
    "\n",
    "```\n",
    "\n",
    "# 训练\n",
    "```\n",
    "python train.py \\\n",
    "--n_epochs 200 \\\n",
    "--batchSize 8 \\\n",
    "--dataroot /hy-tmp/buaa-ai-gan/CycleGAN-CelebA/data/ \\\n",
    "--cuda\n",
    "\n",
    "python train.py \\\n",
    "--n_epochs 200 \\\n",
    "--batchSize 8 \\\n",
    "--dataroot /hy-tmp/buaa-ai-gan/CycleGAN-CelebA/data/ \\\n",
    "--generator_A2B models/Gender_Change/netG_A2B.pth \\\n",
    "--generator_B2A models/Gender_Change/netG_B2A.pth \\\n",
    "--discriminator_A models/mv1/netD_A.pth \\\n",
    "--discriminator_B models/mv1/netD_B.pth \\\n",
    "--cuda\n",
    "```\n",
    "\n",
    "# 测试\n",
    "```\n",
    "python test.py \\\n",
    "--dataroot input/ \\\n",
    "--cuda\n",
    "\n",
    "python test.py \\\n",
    "--generator_A2B models/Gender_Change/netG_A2B.pth \\\n",
    "--generator_B2A models/Gender_Change/netG_B2A.pth \\\n",
    "--dataroot input/ \\\n",
    "--cuda\n",
    "```\n",
    "\n"
   ]
  },
  {
   "cell_type": "code",
   "execution_count": null,
   "metadata": {},
   "outputs": [],
   "source": []
  }
 ],
 "metadata": {
  "kernelspec": {
   "display_name": "Python 3",
   "language": "python",
   "name": "python3"
  },
  "language_info": {
   "codemirror_mode": {
    "name": "ipython",
    "version": 3
   },
   "file_extension": ".py",
   "mimetype": "text/x-python",
   "name": "python",
   "nbconvert_exporter": "python",
   "pygments_lexer": "ipython3",
   "version": "3.6.5"
  }
 },
 "nbformat": 4,
 "nbformat_minor": 4
}
