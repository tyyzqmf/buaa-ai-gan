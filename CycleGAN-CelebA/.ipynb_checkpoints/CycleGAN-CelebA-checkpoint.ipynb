{
 "cells": [
  {
   "cell_type": "markdown",
   "metadata": {},
   "source": [
    "mkdir -p /hy-tmp/Datasets\n",
    "\n",
    "cp -r /hy-public/CelebA /hy-tmp/Datasets\n",
    "\n",
    "unzip -q -o /hy-tmp/Datasets/CelebA/Img/img_align_celeba.zip -d /hy-tmp/Datasets/CelebA"
   ]
  },
  {
   "cell_type": "code",
   "execution_count": 3,
   "metadata": {},
   "outputs": [
    {
     "name": "stdout",
     "output_type": "stream",
     "text": [
      "TrainA have 84434 images!\n",
      "TrainB have 118165 images!\n",
      "Not found 0 images!\n"
     ]
    }
   ],
   "source": [
    "python split_img.py "
   ]
  },
  {
   "cell_type": "code",
   "execution_count": null,
   "metadata": {
    "collapsed": true,
    "jupyter": {
     "outputs_hidden": true
    }
   },
   "outputs": [],
   "source": [
    "import torch\n",
    "import torchvision\n",
    "\n",
    "train_transforms = torchvision.transforms.ToTensor()\n",
    "\n",
    "train_dataset = torchvision.datasets.CelebA(root='/hy-tmp/Datasets/CelebA',\n",
    "                                    split='train',\n",
    "                                    transform=train_transforms,\n",
    "                                    download=True)"
   ]
  }
 ],
 "metadata": {
  "kernelspec": {
   "display_name": "Python 3",
   "language": "python",
   "name": "python3"
  },
  "language_info": {
   "codemirror_mode": {
    "name": "ipython",
    "version": 3
   },
   "file_extension": ".py",
   "mimetype": "text/x-python",
   "name": "python",
   "nbconvert_exporter": "python",
   "pygments_lexer": "ipython3",
   "version": "3.8.10"
  }
 },
 "nbformat": 4,
 "nbformat_minor": 4
}
